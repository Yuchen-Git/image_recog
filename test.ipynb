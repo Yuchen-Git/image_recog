{
 "cells": [
  {
   "cell_type": "code",
   "execution_count": 1,
   "metadata": {},
   "outputs": [],
   "source": [
    "from tensorflow.keras.preprocessing.image import ImageDataGenerator\n",
    "\n",
    "train_datagen = ImageDataGenerator(\n",
    "    rescale=1./255,  # 对图像的每个像素值均乘以该数值后再做偏移，实现归一化\n",
    "    rotation_range=40,  # 随机旋转的度数范围\n",
    "    width_shift_range=0.2,  # 图片宽度上随机移动的范围，这里的0.2指最多移动图片宽度的20%\n",
    "    height_shift_range=0.2,  # 图片高度上随机移动的范围，这里的0.2指最多移动图片高度的20%\n",
    "    shear_range=0.2,  # 剪切强度（逆时针方向的剪切变换角度）\n",
    "    zoom_range=0.2,  # 随机缩放的幅度\n",
    "    horizontal_flip=True,  # 随机将图片水平翻转\n",
    "    fill_mode='nearest',  # 当进行变换时，新出现的像素点如何填充\n",
    "    validation_split=0.2)  # 从训练数据中划分出20%的数据作为验证数据\n"
   ]
  },
  {
   "cell_type": "code",
   "execution_count": null,
   "metadata": {},
   "outputs": [],
   "source": [
    "train_generator = train_datagen.flow_from_directory(\n",
    "    'images',  # 训练数据文件夹路径\n",
    "    target_size=(100, 100),  # 将所有图片大小调整为100x100\n",
    "    batch_size=32,  # 每批数据的大小\n",
    "    class_mode='categorical',  # 由于我们进行多类别分类，使用\"分类\"模式\n",
    "    subset='training')  # 指定这是用于训练的数据\n",
    "\n",
    "validation_generator = train_datagen.flow_from_directory(\n",
    "    'data/train',  # 训练数据文件夹路径，同样用于验证数据的提取\n",
    "    target_size=(100, 100),\n",
    "    batch_size=32,\n",
    "    class_mode='categorical',\n",
    "    subset='validation')  # 指定这是用于验证的数据\n"
   ]
  }
 ],
 "metadata": {
  "kernelspec": {
   "display_name": "Python 3",
   "language": "python",
   "name": "python3"
  },
  "language_info": {
   "codemirror_mode": {
    "name": "ipython",
    "version": 3
   },
   "file_extension": ".py",
   "mimetype": "text/x-python",
   "name": "python",
   "nbconvert_exporter": "python",
   "pygments_lexer": "ipython3",
   "version": "3.12.2"
  }
 },
 "nbformat": 4,
 "nbformat_minor": 2
}
